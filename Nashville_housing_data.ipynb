{
 "cells": [
  {
   "cell_type": "code",
   "execution_count": 100,
   "metadata": {},
   "outputs": [],
   "source": [
    "# importing all the libraries\n",
    "import os\n",
    "import numpy as np \n",
    "import pandas as pd \n",
    "import matplotlib.pyplot as plt\n",
    "import seaborn as sns\n",
    "\n",
    "from sklearn.model_selection import train_test_split\n",
    "from sklearn.preprocessing import StandardScaler\n",
    "from sklearn.linear_model import LinearRegression\n",
    "from sklearn import datasets, linear_model, metrics\n",
    "from sklearn.neighbors import KNeighborsClassifier\n",
    "from sklearn.metrics import accuracy_score,roc_auc_score\n",
    "from sklearn.metrics import classification_report\n",
    "from sklearn.ensemble import RandomForestRegressor\n",
    "from sklearn import metrics\n",
    "from sklearn.datasets import make_regression\n",
    "from sklearn.ensemble import GradientBoostingRegressor\n",
    "from sklearn.model_selection import train_test_split\n",
    "from sklearn.tree import DecisionTreeRegressor\n",
    "from sklearn.tree import DecisionTreeRegressor\n",
    "from sklearn import set_config "
   ]
  },
  {
   "cell_type": "code",
   "execution_count": 101,
   "metadata": {},
   "outputs": [
    {
     "data": {
      "text/html": [
       "<div>\n",
       "<style scoped>\n",
       "    .dataframe tbody tr th:only-of-type {\n",
       "        vertical-align: middle;\n",
       "    }\n",
       "\n",
       "    .dataframe tbody tr th {\n",
       "        vertical-align: top;\n",
       "    }\n",
       "\n",
       "    .dataframe thead th {\n",
       "        text-align: right;\n",
       "    }\n",
       "</style>\n",
       "<table border=\"1\" class=\"dataframe\">\n",
       "  <thead>\n",
       "    <tr style=\"text-align: right;\">\n",
       "      <th></th>\n",
       "      <th>Unnamed: 0</th>\n",
       "      <th>Unnamed: 0.1</th>\n",
       "      <th>Parcel ID</th>\n",
       "      <th>Land Use</th>\n",
       "      <th>Property Address</th>\n",
       "      <th>Suite/ Condo   #</th>\n",
       "      <th>Property City</th>\n",
       "      <th>Sale Date</th>\n",
       "      <th>Sale Price</th>\n",
       "      <th>Legal Reference</th>\n",
       "      <th>...</th>\n",
       "      <th>Building Value</th>\n",
       "      <th>Total Value</th>\n",
       "      <th>Finished Area</th>\n",
       "      <th>Foundation Type</th>\n",
       "      <th>Year Built</th>\n",
       "      <th>Exterior Wall</th>\n",
       "      <th>Grade</th>\n",
       "      <th>Bedrooms</th>\n",
       "      <th>Full Bath</th>\n",
       "      <th>Half Bath</th>\n",
       "    </tr>\n",
       "  </thead>\n",
       "  <tbody>\n",
       "    <tr>\n",
       "      <th>0</th>\n",
       "      <td>0</td>\n",
       "      <td>0</td>\n",
       "      <td>105 03 0D 008.00</td>\n",
       "      <td>RESIDENTIAL CONDO</td>\n",
       "      <td>1208  3RD AVE S</td>\n",
       "      <td>8</td>\n",
       "      <td>NASHVILLE</td>\n",
       "      <td>2013-01-24</td>\n",
       "      <td>132000</td>\n",
       "      <td>20130128-0008725</td>\n",
       "      <td>...</td>\n",
       "      <td>NaN</td>\n",
       "      <td>NaN</td>\n",
       "      <td>NaN</td>\n",
       "      <td>NaN</td>\n",
       "      <td>NaN</td>\n",
       "      <td>NaN</td>\n",
       "      <td>NaN</td>\n",
       "      <td>NaN</td>\n",
       "      <td>NaN</td>\n",
       "      <td>NaN</td>\n",
       "    </tr>\n",
       "    <tr>\n",
       "      <th>1</th>\n",
       "      <td>1</td>\n",
       "      <td>1</td>\n",
       "      <td>105 11 0 080.00</td>\n",
       "      <td>SINGLE FAMILY</td>\n",
       "      <td>1802  STEWART PL</td>\n",
       "      <td>NaN</td>\n",
       "      <td>NASHVILLE</td>\n",
       "      <td>2013-01-11</td>\n",
       "      <td>191500</td>\n",
       "      <td>20130118-0006337</td>\n",
       "      <td>...</td>\n",
       "      <td>134400.0</td>\n",
       "      <td>168300.0</td>\n",
       "      <td>1149.00000</td>\n",
       "      <td>PT BSMT</td>\n",
       "      <td>1941.0</td>\n",
       "      <td>BRICK</td>\n",
       "      <td>C</td>\n",
       "      <td>2.0</td>\n",
       "      <td>1.0</td>\n",
       "      <td>0.0</td>\n",
       "    </tr>\n",
       "    <tr>\n",
       "      <th>2</th>\n",
       "      <td>2</td>\n",
       "      <td>2</td>\n",
       "      <td>118 03 0 130.00</td>\n",
       "      <td>SINGLE FAMILY</td>\n",
       "      <td>2761  ROSEDALE PL</td>\n",
       "      <td>NaN</td>\n",
       "      <td>NASHVILLE</td>\n",
       "      <td>2013-01-18</td>\n",
       "      <td>202000</td>\n",
       "      <td>20130124-0008033</td>\n",
       "      <td>...</td>\n",
       "      <td>157800.0</td>\n",
       "      <td>191800.0</td>\n",
       "      <td>2090.82495</td>\n",
       "      <td>SLAB</td>\n",
       "      <td>2000.0</td>\n",
       "      <td>BRICK/FRAME</td>\n",
       "      <td>C</td>\n",
       "      <td>3.0</td>\n",
       "      <td>2.0</td>\n",
       "      <td>1.0</td>\n",
       "    </tr>\n",
       "    <tr>\n",
       "      <th>3</th>\n",
       "      <td>3</td>\n",
       "      <td>3</td>\n",
       "      <td>119 01 0 479.00</td>\n",
       "      <td>SINGLE FAMILY</td>\n",
       "      <td>224  PEACHTREE ST</td>\n",
       "      <td>NaN</td>\n",
       "      <td>NASHVILLE</td>\n",
       "      <td>2013-01-18</td>\n",
       "      <td>32000</td>\n",
       "      <td>20130128-0008863</td>\n",
       "      <td>...</td>\n",
       "      <td>243700.0</td>\n",
       "      <td>268700.0</td>\n",
       "      <td>2145.60001</td>\n",
       "      <td>FULL BSMT</td>\n",
       "      <td>1948.0</td>\n",
       "      <td>BRICK/FRAME</td>\n",
       "      <td>B</td>\n",
       "      <td>4.0</td>\n",
       "      <td>2.0</td>\n",
       "      <td>0.0</td>\n",
       "    </tr>\n",
       "    <tr>\n",
       "      <th>4</th>\n",
       "      <td>4</td>\n",
       "      <td>4</td>\n",
       "      <td>119 05 0 186.00</td>\n",
       "      <td>SINGLE FAMILY</td>\n",
       "      <td>316  LUTIE ST</td>\n",
       "      <td>NaN</td>\n",
       "      <td>NASHVILLE</td>\n",
       "      <td>2013-01-23</td>\n",
       "      <td>102000</td>\n",
       "      <td>20130131-0009929</td>\n",
       "      <td>...</td>\n",
       "      <td>138100.0</td>\n",
       "      <td>164800.0</td>\n",
       "      <td>1969.00000</td>\n",
       "      <td>CRAWL</td>\n",
       "      <td>1910.0</td>\n",
       "      <td>FRAME</td>\n",
       "      <td>C</td>\n",
       "      <td>2.0</td>\n",
       "      <td>1.0</td>\n",
       "      <td>0.0</td>\n",
       "    </tr>\n",
       "  </tbody>\n",
       "</table>\n",
       "<p>5 rows × 31 columns</p>\n",
       "</div>"
      ],
      "text/plain": [
       "   Unnamed: 0  Unnamed: 0.1         Parcel ID           Land Use  \\\n",
       "0           0             0  105 03 0D 008.00  RESIDENTIAL CONDO   \n",
       "1           1             1   105 11 0 080.00      SINGLE FAMILY   \n",
       "2           2             2   118 03 0 130.00      SINGLE FAMILY   \n",
       "3           3             3   119 01 0 479.00      SINGLE FAMILY   \n",
       "4           4             4   119 05 0 186.00      SINGLE FAMILY   \n",
       "\n",
       "    Property Address Suite/ Condo   # Property City   Sale Date  Sale Price  \\\n",
       "0    1208  3RD AVE S                8     NASHVILLE  2013-01-24      132000   \n",
       "1   1802  STEWART PL              NaN     NASHVILLE  2013-01-11      191500   \n",
       "2  2761  ROSEDALE PL              NaN     NASHVILLE  2013-01-18      202000   \n",
       "3  224  PEACHTREE ST              NaN     NASHVILLE  2013-01-18       32000   \n",
       "4      316  LUTIE ST              NaN     NASHVILLE  2013-01-23      102000   \n",
       "\n",
       "    Legal Reference  ... Building Value Total Value Finished Area  \\\n",
       "0  20130128-0008725  ...            NaN         NaN           NaN   \n",
       "1  20130118-0006337  ...       134400.0    168300.0    1149.00000   \n",
       "2  20130124-0008033  ...       157800.0    191800.0    2090.82495   \n",
       "3  20130128-0008863  ...       243700.0    268700.0    2145.60001   \n",
       "4  20130131-0009929  ...       138100.0    164800.0    1969.00000   \n",
       "\n",
       "  Foundation Type Year Built Exterior Wall  Grade Bedrooms  Full Bath  \\\n",
       "0             NaN        NaN           NaN    NaN      NaN        NaN   \n",
       "1         PT BSMT     1941.0         BRICK   C         2.0        1.0   \n",
       "2            SLAB     2000.0   BRICK/FRAME   C         3.0        2.0   \n",
       "3       FULL BSMT     1948.0   BRICK/FRAME   B         4.0        2.0   \n",
       "4           CRAWL     1910.0         FRAME   C         2.0        1.0   \n",
       "\n",
       "  Half Bath  \n",
       "0       NaN  \n",
       "1       0.0  \n",
       "2       1.0  \n",
       "3       0.0  \n",
       "4       0.0  \n",
       "\n",
       "[5 rows x 31 columns]"
      ]
     },
     "execution_count": 101,
     "metadata": {},
     "output_type": "execute_result"
    }
   ],
   "source": [
    "# Loading dataset\n",
    "Nashville = pd.read_csv(\"Nashville_housing_data_2013_2016.csv\")\n",
    "Nashville.head()"
   ]
  },
  {
   "cell_type": "code",
   "execution_count": 103,
   "metadata": {},
   "outputs": [
    {
     "name": "stdout",
     "output_type": "stream",
     "text": [
      "<class 'pandas.core.frame.DataFrame'>\n",
      "RangeIndex: 56636 entries, 0 to 56635\n",
      "Data columns (total 31 columns):\n",
      " #   Column                             Non-Null Count  Dtype  \n",
      "---  ------                             --------------  -----  \n",
      " 0   Unnamed: 0                         56636 non-null  int64  \n",
      " 1   Unnamed: 0.1                       56636 non-null  int64  \n",
      " 2   Parcel ID                          56636 non-null  object \n",
      " 3   Land Use                           56636 non-null  object \n",
      " 4   Property Address                   56477 non-null  object \n",
      " 5   Suite/ Condo   #                   6109 non-null   object \n",
      " 6   Property City                      56477 non-null  object \n",
      " 7   Sale Date                          56636 non-null  object \n",
      " 8   Sale Price                         56636 non-null  int64  \n",
      " 9   Legal Reference                    56636 non-null  object \n",
      " 10  Sold As Vacant                     56636 non-null  object \n",
      " 11  Multiple Parcels Involved in Sale  56636 non-null  object \n",
      " 12  Owner Name                         25261 non-null  object \n",
      " 13  Address                            26017 non-null  object \n",
      " 14  City                               26017 non-null  object \n",
      " 15  State                              26017 non-null  object \n",
      " 16  Acreage                            26017 non-null  float64\n",
      " 17  Tax District                       26017 non-null  object \n",
      " 18  Neighborhood                       26017 non-null  float64\n",
      " 19  image                              25335 non-null  object \n",
      " 20  Land Value                         26017 non-null  float64\n",
      " 21  Building Value                     26017 non-null  float64\n",
      " 22  Total Value                        26017 non-null  float64\n",
      " 23  Finished Area                      24166 non-null  float64\n",
      " 24  Foundation Type                    24164 non-null  object \n",
      " 25  Year Built                         24165 non-null  float64\n",
      " 26  Exterior Wall                      24165 non-null  object \n",
      " 27  Grade                              24165 non-null  object \n",
      " 28  Bedrooms                           24159 non-null  float64\n",
      " 29  Full Bath                          24277 non-null  float64\n",
      " 30  Half Bath                          24146 non-null  float64\n",
      "dtypes: float64(10), int64(3), object(18)\n",
      "memory usage: 13.4+ MB\n"
     ]
    }
   ],
   "source": [
    "Nashville.info()"
   ]
  },
  {
   "cell_type": "code",
   "execution_count": 104,
   "metadata": {},
   "outputs": [
    {
     "data": {
      "text/plain": [
       "Unnamed: 0                               0\n",
       "Unnamed: 0.1                             0\n",
       "Parcel ID                                0\n",
       "Land Use                                 0\n",
       "Property Address                       159\n",
       "Suite/ Condo   #                     50527\n",
       "Property City                          159\n",
       "Sale Date                                0\n",
       "Sale Price                               0\n",
       "Legal Reference                          0\n",
       "Sold As Vacant                           0\n",
       "Multiple Parcels Involved in Sale        0\n",
       "Owner Name                           31375\n",
       "Address                              30619\n",
       "City                                 30619\n",
       "State                                30619\n",
       "Acreage                              30619\n",
       "Tax District                         30619\n",
       "Neighborhood                         30619\n",
       "image                                31301\n",
       "Land Value                           30619\n",
       "Building Value                       30619\n",
       "Total Value                          30619\n",
       "Finished Area                        32470\n",
       "Foundation Type                      32472\n",
       "Year Built                           32471\n",
       "Exterior Wall                        32471\n",
       "Grade                                32471\n",
       "Bedrooms                             32477\n",
       "Full Bath                            32359\n",
       "Half Bath                            32490\n",
       "dtype: int64"
      ]
     },
     "execution_count": 104,
     "metadata": {},
     "output_type": "execute_result"
    }
   ],
   "source": [
    "Nashville.isnull().sum()"
   ]
  },
  {
   "cell_type": "code",
   "execution_count": 105,
   "metadata": {},
   "outputs": [
    {
     "data": {
      "text/plain": [
       "(56636, 31)"
      ]
     },
     "execution_count": 105,
     "metadata": {},
     "output_type": "execute_result"
    }
   ],
   "source": [
    "Nashville.shape"
   ]
  },
  {
   "cell_type": "code",
   "execution_count": 106,
   "metadata": {},
   "outputs": [],
   "source": [
    "Nashville[\"Bedrooms\"] = Nashville[\"Bedrooms\"].fillna(method='ffill')\n",
    "Nashville[\"Property Address\"] = Nashville[\"Property Address\"].fillna(method='ffill')\n",
    "Nashville[\"Property City\"] = Nashville[\"Property City\"].fillna(method='ffill')\n",
    "Nashville[\"Owner Name\"] = Nashville[\"Owner Name\"].fillna(method='ffill')\n",
    "Nashville[\"Address\"] = Nashville[\"Address\"].fillna(method='ffill')\n",
    "Nashville[\"City\"] = Nashville[\"City\"].fillna(method='ffill')\n",
    "Nashville[\"State\"] = Nashville[\"State\"].fillna(method='ffill')\n",
    "Nashville[\"Acreage\"] = Nashville[\"Acreage\"].fillna(method='ffill')\n",
    "Nashville[\"Tax District\"] = Nashville[\"Tax District\"].fillna(method='ffill')\n",
    "Nashville[\"Neighborhood\"] = Nashville[\"Neighborhood\"].fillna(method='ffill')\n",
    "Nashville[\"image\"] = Nashville[\"image\"].fillna(method='ffill')\n",
    "Nashville[\"Land Value\"] = Nashville[\"Land Value\"].fillna(method='ffill')\n",
    "Nashville[\"Building Value\"] = Nashville[\"Building Value\"].fillna(method='ffill')\n",
    "Nashville[\"Total Value\"] = Nashville[\"Total Value\"].fillna(method='ffill')\n",
    "Nashville[\"Finished Area\"] = Nashville[\"Finished Area\"].fillna(method='ffill')\n",
    "Nashville[\"Foundation Type\"] = Nashville[\"Foundation Type\"].fillna(method='ffill')\n",
    "Nashville[\"Year Built\"] = Nashville[\"Year Built\"].fillna(method='ffill')\n",
    "Nashville[\"Exterior Wall\"] = Nashville[\"Exterior Wall\"].fillna(method='ffill')\n",
    "Nashville[\"Grade\"] = Nashville[\"Grade\"].fillna(method='ffill')\n",
    "Nashville[\"Full Bath\"] = Nashville[\"Full Bath\"].fillna(method='ffill')\n",
    "Nashville[\"Half Bath\"] = Nashville[\"Half Bath\"].fillna(method='ffill')\n",
    "Nashville[\"Suite/ Condo   #\"] = Nashville[\"Suite/ Condo   #\"].fillna(method='ffill')\n"
   ]
  },
  {
   "cell_type": "markdown",
   "metadata": {},
   "source": [
    "Here I found there are so many null values in the dataset so I tried to fill the null values with ffill."
   ]
  },
  {
   "cell_type": "code",
   "execution_count": 107,
   "metadata": {},
   "outputs": [
    {
     "data": {
      "text/plain": [
       "Unnamed: 0                           0\n",
       "Unnamed: 0.1                         0\n",
       "Parcel ID                            0\n",
       "Land Use                             0\n",
       "Property Address                     0\n",
       "Suite/ Condo   #                     0\n",
       "Property City                        0\n",
       "Sale Date                            0\n",
       "Sale Price                           0\n",
       "Legal Reference                      0\n",
       "Sold As Vacant                       0\n",
       "Multiple Parcels Involved in Sale    0\n",
       "Owner Name                           1\n",
       "Address                              1\n",
       "City                                 1\n",
       "State                                1\n",
       "Acreage                              1\n",
       "Tax District                         1\n",
       "Neighborhood                         1\n",
       "image                                1\n",
       "Land Value                           1\n",
       "Building Value                       1\n",
       "Total Value                          1\n",
       "Finished Area                        1\n",
       "Foundation Type                      1\n",
       "Year Built                           1\n",
       "Exterior Wall                        1\n",
       "Grade                                1\n",
       "Bedrooms                             1\n",
       "Full Bath                            1\n",
       "Half Bath                            1\n",
       "dtype: int64"
      ]
     },
     "execution_count": 107,
     "metadata": {},
     "output_type": "execute_result"
    }
   ],
   "source": [
    "Nashville.isnull().sum()"
   ]
  },
  {
   "cell_type": "code",
   "execution_count": 109,
   "metadata": {},
   "outputs": [
    {
     "data": {
      "text/html": [
       "<div>\n",
       "<style scoped>\n",
       "    .dataframe tbody tr th:only-of-type {\n",
       "        vertical-align: middle;\n",
       "    }\n",
       "\n",
       "    .dataframe tbody tr th {\n",
       "        vertical-align: top;\n",
       "    }\n",
       "\n",
       "    .dataframe thead th {\n",
       "        text-align: right;\n",
       "    }\n",
       "</style>\n",
       "<table border=\"1\" class=\"dataframe\">\n",
       "  <thead>\n",
       "    <tr style=\"text-align: right;\">\n",
       "      <th></th>\n",
       "      <th>Unnamed: 0</th>\n",
       "      <th>Unnamed: 0.1</th>\n",
       "      <th>Parcel ID</th>\n",
       "      <th>Land Use</th>\n",
       "      <th>Property Address</th>\n",
       "      <th>Suite/ Condo   #</th>\n",
       "      <th>Property City</th>\n",
       "      <th>Sale Date</th>\n",
       "      <th>Sale Price</th>\n",
       "      <th>Legal Reference</th>\n",
       "      <th>...</th>\n",
       "      <th>Building Value</th>\n",
       "      <th>Total Value</th>\n",
       "      <th>Finished Area</th>\n",
       "      <th>Foundation Type</th>\n",
       "      <th>Year Built</th>\n",
       "      <th>Exterior Wall</th>\n",
       "      <th>Grade</th>\n",
       "      <th>Bedrooms</th>\n",
       "      <th>Full Bath</th>\n",
       "      <th>Half Bath</th>\n",
       "    </tr>\n",
       "  </thead>\n",
       "  <tbody>\n",
       "    <tr>\n",
       "      <th>0</th>\n",
       "      <td>0</td>\n",
       "      <td>0</td>\n",
       "      <td>105 03 0D 008.00</td>\n",
       "      <td>RESIDENTIAL CONDO</td>\n",
       "      <td>1208  3RD AVE S</td>\n",
       "      <td>8</td>\n",
       "      <td>NASHVILLE</td>\n",
       "      <td>2013-01-24</td>\n",
       "      <td>132000</td>\n",
       "      <td>20130128-0008725</td>\n",
       "      <td>...</td>\n",
       "      <td>NaN</td>\n",
       "      <td>NaN</td>\n",
       "      <td>NaN</td>\n",
       "      <td>NaN</td>\n",
       "      <td>NaN</td>\n",
       "      <td>NaN</td>\n",
       "      <td>NaN</td>\n",
       "      <td>NaN</td>\n",
       "      <td>NaN</td>\n",
       "      <td>NaN</td>\n",
       "    </tr>\n",
       "    <tr>\n",
       "      <th>1</th>\n",
       "      <td>1</td>\n",
       "      <td>1</td>\n",
       "      <td>105 11 0 080.00</td>\n",
       "      <td>SINGLE FAMILY</td>\n",
       "      <td>1802  STEWART PL</td>\n",
       "      <td>8</td>\n",
       "      <td>NASHVILLE</td>\n",
       "      <td>2013-01-11</td>\n",
       "      <td>191500</td>\n",
       "      <td>20130118-0006337</td>\n",
       "      <td>...</td>\n",
       "      <td>134400.0</td>\n",
       "      <td>168300.0</td>\n",
       "      <td>1149.00000</td>\n",
       "      <td>PT BSMT</td>\n",
       "      <td>1941.0</td>\n",
       "      <td>BRICK</td>\n",
       "      <td>C</td>\n",
       "      <td>2.0</td>\n",
       "      <td>1.0</td>\n",
       "      <td>0.0</td>\n",
       "    </tr>\n",
       "    <tr>\n",
       "      <th>2</th>\n",
       "      <td>2</td>\n",
       "      <td>2</td>\n",
       "      <td>118 03 0 130.00</td>\n",
       "      <td>SINGLE FAMILY</td>\n",
       "      <td>2761  ROSEDALE PL</td>\n",
       "      <td>8</td>\n",
       "      <td>NASHVILLE</td>\n",
       "      <td>2013-01-18</td>\n",
       "      <td>202000</td>\n",
       "      <td>20130124-0008033</td>\n",
       "      <td>...</td>\n",
       "      <td>157800.0</td>\n",
       "      <td>191800.0</td>\n",
       "      <td>2090.82495</td>\n",
       "      <td>SLAB</td>\n",
       "      <td>2000.0</td>\n",
       "      <td>BRICK/FRAME</td>\n",
       "      <td>C</td>\n",
       "      <td>3.0</td>\n",
       "      <td>2.0</td>\n",
       "      <td>1.0</td>\n",
       "    </tr>\n",
       "    <tr>\n",
       "      <th>3</th>\n",
       "      <td>3</td>\n",
       "      <td>3</td>\n",
       "      <td>119 01 0 479.00</td>\n",
       "      <td>SINGLE FAMILY</td>\n",
       "      <td>224  PEACHTREE ST</td>\n",
       "      <td>8</td>\n",
       "      <td>NASHVILLE</td>\n",
       "      <td>2013-01-18</td>\n",
       "      <td>32000</td>\n",
       "      <td>20130128-0008863</td>\n",
       "      <td>...</td>\n",
       "      <td>243700.0</td>\n",
       "      <td>268700.0</td>\n",
       "      <td>2145.60001</td>\n",
       "      <td>FULL BSMT</td>\n",
       "      <td>1948.0</td>\n",
       "      <td>BRICK/FRAME</td>\n",
       "      <td>B</td>\n",
       "      <td>4.0</td>\n",
       "      <td>2.0</td>\n",
       "      <td>0.0</td>\n",
       "    </tr>\n",
       "    <tr>\n",
       "      <th>4</th>\n",
       "      <td>4</td>\n",
       "      <td>4</td>\n",
       "      <td>119 05 0 186.00</td>\n",
       "      <td>SINGLE FAMILY</td>\n",
       "      <td>316  LUTIE ST</td>\n",
       "      <td>8</td>\n",
       "      <td>NASHVILLE</td>\n",
       "      <td>2013-01-23</td>\n",
       "      <td>102000</td>\n",
       "      <td>20130131-0009929</td>\n",
       "      <td>...</td>\n",
       "      <td>138100.0</td>\n",
       "      <td>164800.0</td>\n",
       "      <td>1969.00000</td>\n",
       "      <td>CRAWL</td>\n",
       "      <td>1910.0</td>\n",
       "      <td>FRAME</td>\n",
       "      <td>C</td>\n",
       "      <td>2.0</td>\n",
       "      <td>1.0</td>\n",
       "      <td>0.0</td>\n",
       "    </tr>\n",
       "  </tbody>\n",
       "</table>\n",
       "<p>5 rows × 31 columns</p>\n",
       "</div>"
      ],
      "text/plain": [
       "   Unnamed: 0  Unnamed: 0.1         Parcel ID           Land Use  \\\n",
       "0           0             0  105 03 0D 008.00  RESIDENTIAL CONDO   \n",
       "1           1             1   105 11 0 080.00      SINGLE FAMILY   \n",
       "2           2             2   118 03 0 130.00      SINGLE FAMILY   \n",
       "3           3             3   119 01 0 479.00      SINGLE FAMILY   \n",
       "4           4             4   119 05 0 186.00      SINGLE FAMILY   \n",
       "\n",
       "    Property Address Suite/ Condo   # Property City   Sale Date  Sale Price  \\\n",
       "0    1208  3RD AVE S                8     NASHVILLE  2013-01-24      132000   \n",
       "1   1802  STEWART PL                8     NASHVILLE  2013-01-11      191500   \n",
       "2  2761  ROSEDALE PL                8     NASHVILLE  2013-01-18      202000   \n",
       "3  224  PEACHTREE ST                8     NASHVILLE  2013-01-18       32000   \n",
       "4      316  LUTIE ST                8     NASHVILLE  2013-01-23      102000   \n",
       "\n",
       "    Legal Reference  ... Building Value Total Value Finished Area  \\\n",
       "0  20130128-0008725  ...            NaN         NaN           NaN   \n",
       "1  20130118-0006337  ...       134400.0    168300.0    1149.00000   \n",
       "2  20130124-0008033  ...       157800.0    191800.0    2090.82495   \n",
       "3  20130128-0008863  ...       243700.0    268700.0    2145.60001   \n",
       "4  20130131-0009929  ...       138100.0    164800.0    1969.00000   \n",
       "\n",
       "  Foundation Type Year Built Exterior Wall  Grade Bedrooms  Full Bath  \\\n",
       "0             NaN        NaN           NaN    NaN      NaN        NaN   \n",
       "1         PT BSMT     1941.0         BRICK   C         2.0        1.0   \n",
       "2            SLAB     2000.0   BRICK/FRAME   C         3.0        2.0   \n",
       "3       FULL BSMT     1948.0   BRICK/FRAME   B         4.0        2.0   \n",
       "4           CRAWL     1910.0         FRAME   C         2.0        1.0   \n",
       "\n",
       "  Half Bath  \n",
       "0       NaN  \n",
       "1       0.0  \n",
       "2       1.0  \n",
       "3       0.0  \n",
       "4       0.0  \n",
       "\n",
       "[5 rows x 31 columns]"
      ]
     },
     "execution_count": 109,
     "metadata": {},
     "output_type": "execute_result"
    }
   ],
   "source": [
    "Nashville.head()"
   ]
  },
  {
   "cell_type": "code",
   "execution_count": 110,
   "metadata": {},
   "outputs": [
    {
     "data": {
      "text/html": [
       "<div>\n",
       "<style scoped>\n",
       "    .dataframe tbody tr th:only-of-type {\n",
       "        vertical-align: middle;\n",
       "    }\n",
       "\n",
       "    .dataframe tbody tr th {\n",
       "        vertical-align: top;\n",
       "    }\n",
       "\n",
       "    .dataframe thead th {\n",
       "        text-align: right;\n",
       "    }\n",
       "</style>\n",
       "<table border=\"1\" class=\"dataframe\">\n",
       "  <thead>\n",
       "    <tr style=\"text-align: right;\">\n",
       "      <th></th>\n",
       "      <th>Unnamed: 0</th>\n",
       "      <th>Unnamed: 0.1</th>\n",
       "      <th>Sale Price</th>\n",
       "      <th>Acreage</th>\n",
       "      <th>Neighborhood</th>\n",
       "      <th>Land Value</th>\n",
       "      <th>Building Value</th>\n",
       "      <th>Total Value</th>\n",
       "      <th>Finished Area</th>\n",
       "      <th>Year Built</th>\n",
       "      <th>Bedrooms</th>\n",
       "      <th>Full Bath</th>\n",
       "      <th>Half Bath</th>\n",
       "    </tr>\n",
       "  </thead>\n",
       "  <tbody>\n",
       "    <tr>\n",
       "      <th>count</th>\n",
       "      <td>56636.00000</td>\n",
       "      <td>56636.00000</td>\n",
       "      <td>5.663600e+04</td>\n",
       "      <td>56635.000000</td>\n",
       "      <td>56635.000000</td>\n",
       "      <td>5.663500e+04</td>\n",
       "      <td>5.663500e+04</td>\n",
       "      <td>5.663500e+04</td>\n",
       "      <td>56635.000000</td>\n",
       "      <td>56635.000000</td>\n",
       "      <td>56635.000000</td>\n",
       "      <td>56635.000000</td>\n",
       "      <td>56635.000000</td>\n",
       "    </tr>\n",
       "    <tr>\n",
       "      <th>mean</th>\n",
       "      <td>28317.50000</td>\n",
       "      <td>28317.50000</td>\n",
       "      <td>3.272111e+05</td>\n",
       "      <td>0.648223</td>\n",
       "      <td>4353.737848</td>\n",
       "      <td>7.467198e+04</td>\n",
       "      <td>1.689785e+05</td>\n",
       "      <td>2.459946e+05</td>\n",
       "      <td>2002.943806</td>\n",
       "      <td>1969.206586</td>\n",
       "      <td>3.121409</td>\n",
       "      <td>1.968712</td>\n",
       "      <td>0.311927</td>\n",
       "    </tr>\n",
       "    <tr>\n",
       "      <th>std</th>\n",
       "      <td>16349.54926</td>\n",
       "      <td>16349.54926</td>\n",
       "      <td>9.287425e+05</td>\n",
       "      <td>3.019697</td>\n",
       "      <td>2208.200887</td>\n",
       "      <td>1.080423e+05</td>\n",
       "      <td>2.008163e+05</td>\n",
       "      <td>2.736333e+05</td>\n",
       "      <td>1422.749149</td>\n",
       "      <td>26.889911</td>\n",
       "      <td>0.854115</td>\n",
       "      <td>0.962376</td>\n",
       "      <td>0.500476</td>\n",
       "    </tr>\n",
       "    <tr>\n",
       "      <th>min</th>\n",
       "      <td>0.00000</td>\n",
       "      <td>0.00000</td>\n",
       "      <td>5.000000e+01</td>\n",
       "      <td>0.010000</td>\n",
       "      <td>107.000000</td>\n",
       "      <td>1.000000e+02</td>\n",
       "      <td>0.000000e+00</td>\n",
       "      <td>1.000000e+02</td>\n",
       "      <td>0.000000</td>\n",
       "      <td>1799.000000</td>\n",
       "      <td>0.000000</td>\n",
       "      <td>0.000000</td>\n",
       "      <td>0.000000</td>\n",
       "    </tr>\n",
       "    <tr>\n",
       "      <th>25%</th>\n",
       "      <td>14158.75000</td>\n",
       "      <td>14158.75000</td>\n",
       "      <td>1.350000e+05</td>\n",
       "      <td>0.190000</td>\n",
       "      <td>3130.000000</td>\n",
       "      <td>2.300000e+04</td>\n",
       "      <td>7.760000e+04</td>\n",
       "      <td>1.062000e+05</td>\n",
       "      <td>1261.000000</td>\n",
       "      <td>1950.000000</td>\n",
       "      <td>3.000000</td>\n",
       "      <td>1.000000</td>\n",
       "      <td>0.000000</td>\n",
       "    </tr>\n",
       "    <tr>\n",
       "      <th>50%</th>\n",
       "      <td>28317.50000</td>\n",
       "      <td>28317.50000</td>\n",
       "      <td>2.054500e+05</td>\n",
       "      <td>0.280000</td>\n",
       "      <td>4028.000000</td>\n",
       "      <td>3.100000e+04</td>\n",
       "      <td>1.155000e+05</td>\n",
       "      <td>1.563000e+05</td>\n",
       "      <td>1708.000000</td>\n",
       "      <td>1968.000000</td>\n",
       "      <td>3.000000</td>\n",
       "      <td>2.000000</td>\n",
       "      <td>0.000000</td>\n",
       "    </tr>\n",
       "    <tr>\n",
       "      <th>75%</th>\n",
       "      <td>42476.25000</td>\n",
       "      <td>42476.25000</td>\n",
       "      <td>3.290000e+05</td>\n",
       "      <td>0.490000</td>\n",
       "      <td>6228.000000</td>\n",
       "      <td>7.000000e+04</td>\n",
       "      <td>1.985000e+05</td>\n",
       "      <td>2.950000e+05</td>\n",
       "      <td>2366.000000</td>\n",
       "      <td>1987.000000</td>\n",
       "      <td>4.000000</td>\n",
       "      <td>2.000000</td>\n",
       "      <td>1.000000</td>\n",
       "    </tr>\n",
       "    <tr>\n",
       "      <th>max</th>\n",
       "      <td>56635.00000</td>\n",
       "      <td>56635.00000</td>\n",
       "      <td>5.427806e+07</td>\n",
       "      <td>160.060000</td>\n",
       "      <td>9530.000000</td>\n",
       "      <td>2.772000e+06</td>\n",
       "      <td>1.297180e+07</td>\n",
       "      <td>1.394040e+07</td>\n",
       "      <td>197988.000000</td>\n",
       "      <td>2017.000000</td>\n",
       "      <td>11.000000</td>\n",
       "      <td>10.000000</td>\n",
       "      <td>3.000000</td>\n",
       "    </tr>\n",
       "  </tbody>\n",
       "</table>\n",
       "</div>"
      ],
      "text/plain": [
       "        Unnamed: 0  Unnamed: 0.1    Sale Price       Acreage  Neighborhood  \\\n",
       "count  56636.00000   56636.00000  5.663600e+04  56635.000000  56635.000000   \n",
       "mean   28317.50000   28317.50000  3.272111e+05      0.648223   4353.737848   \n",
       "std    16349.54926   16349.54926  9.287425e+05      3.019697   2208.200887   \n",
       "min        0.00000       0.00000  5.000000e+01      0.010000    107.000000   \n",
       "25%    14158.75000   14158.75000  1.350000e+05      0.190000   3130.000000   \n",
       "50%    28317.50000   28317.50000  2.054500e+05      0.280000   4028.000000   \n",
       "75%    42476.25000   42476.25000  3.290000e+05      0.490000   6228.000000   \n",
       "max    56635.00000   56635.00000  5.427806e+07    160.060000   9530.000000   \n",
       "\n",
       "         Land Value  Building Value   Total Value  Finished Area  \\\n",
       "count  5.663500e+04    5.663500e+04  5.663500e+04   56635.000000   \n",
       "mean   7.467198e+04    1.689785e+05  2.459946e+05    2002.943806   \n",
       "std    1.080423e+05    2.008163e+05  2.736333e+05    1422.749149   \n",
       "min    1.000000e+02    0.000000e+00  1.000000e+02       0.000000   \n",
       "25%    2.300000e+04    7.760000e+04  1.062000e+05    1261.000000   \n",
       "50%    3.100000e+04    1.155000e+05  1.563000e+05    1708.000000   \n",
       "75%    7.000000e+04    1.985000e+05  2.950000e+05    2366.000000   \n",
       "max    2.772000e+06    1.297180e+07  1.394040e+07  197988.000000   \n",
       "\n",
       "         Year Built      Bedrooms     Full Bath     Half Bath  \n",
       "count  56635.000000  56635.000000  56635.000000  56635.000000  \n",
       "mean    1969.206586      3.121409      1.968712      0.311927  \n",
       "std       26.889911      0.854115      0.962376      0.500476  \n",
       "min     1799.000000      0.000000      0.000000      0.000000  \n",
       "25%     1950.000000      3.000000      1.000000      0.000000  \n",
       "50%     1968.000000      3.000000      2.000000      0.000000  \n",
       "75%     1987.000000      4.000000      2.000000      1.000000  \n",
       "max     2017.000000     11.000000     10.000000      3.000000  "
      ]
     },
     "execution_count": 110,
     "metadata": {},
     "output_type": "execute_result"
    }
   ],
   "source": [
    "Nashville.describe()"
   ]
  },
  {
   "cell_type": "code",
   "execution_count": 111,
   "metadata": {},
   "outputs": [],
   "source": [
    "new_Nashville = Nashville.drop(0)"
   ]
  },
  {
   "cell_type": "code",
   "execution_count": 112,
   "metadata": {},
   "outputs": [
    {
     "data": {
      "text/html": [
       "<div>\n",
       "<style scoped>\n",
       "    .dataframe tbody tr th:only-of-type {\n",
       "        vertical-align: middle;\n",
       "    }\n",
       "\n",
       "    .dataframe tbody tr th {\n",
       "        vertical-align: top;\n",
       "    }\n",
       "\n",
       "    .dataframe thead th {\n",
       "        text-align: right;\n",
       "    }\n",
       "</style>\n",
       "<table border=\"1\" class=\"dataframe\">\n",
       "  <thead>\n",
       "    <tr style=\"text-align: right;\">\n",
       "      <th></th>\n",
       "      <th>Unnamed: 0</th>\n",
       "      <th>Unnamed: 0.1</th>\n",
       "      <th>Parcel ID</th>\n",
       "      <th>Land Use</th>\n",
       "      <th>Property Address</th>\n",
       "      <th>Suite/ Condo   #</th>\n",
       "      <th>Property City</th>\n",
       "      <th>Sale Date</th>\n",
       "      <th>Sale Price</th>\n",
       "      <th>Legal Reference</th>\n",
       "      <th>...</th>\n",
       "      <th>Building Value</th>\n",
       "      <th>Total Value</th>\n",
       "      <th>Finished Area</th>\n",
       "      <th>Foundation Type</th>\n",
       "      <th>Year Built</th>\n",
       "      <th>Exterior Wall</th>\n",
       "      <th>Grade</th>\n",
       "      <th>Bedrooms</th>\n",
       "      <th>Full Bath</th>\n",
       "      <th>Half Bath</th>\n",
       "    </tr>\n",
       "  </thead>\n",
       "  <tbody>\n",
       "    <tr>\n",
       "      <th>1</th>\n",
       "      <td>1</td>\n",
       "      <td>1</td>\n",
       "      <td>105 11 0 080.00</td>\n",
       "      <td>SINGLE FAMILY</td>\n",
       "      <td>1802  STEWART PL</td>\n",
       "      <td>8</td>\n",
       "      <td>NASHVILLE</td>\n",
       "      <td>2013-01-11</td>\n",
       "      <td>191500</td>\n",
       "      <td>20130118-0006337</td>\n",
       "      <td>...</td>\n",
       "      <td>134400.0</td>\n",
       "      <td>168300.0</td>\n",
       "      <td>1149.00000</td>\n",
       "      <td>PT BSMT</td>\n",
       "      <td>1941.0</td>\n",
       "      <td>BRICK</td>\n",
       "      <td>C</td>\n",
       "      <td>2.0</td>\n",
       "      <td>1.0</td>\n",
       "      <td>0.0</td>\n",
       "    </tr>\n",
       "    <tr>\n",
       "      <th>2</th>\n",
       "      <td>2</td>\n",
       "      <td>2</td>\n",
       "      <td>118 03 0 130.00</td>\n",
       "      <td>SINGLE FAMILY</td>\n",
       "      <td>2761  ROSEDALE PL</td>\n",
       "      <td>8</td>\n",
       "      <td>NASHVILLE</td>\n",
       "      <td>2013-01-18</td>\n",
       "      <td>202000</td>\n",
       "      <td>20130124-0008033</td>\n",
       "      <td>...</td>\n",
       "      <td>157800.0</td>\n",
       "      <td>191800.0</td>\n",
       "      <td>2090.82495</td>\n",
       "      <td>SLAB</td>\n",
       "      <td>2000.0</td>\n",
       "      <td>BRICK/FRAME</td>\n",
       "      <td>C</td>\n",
       "      <td>3.0</td>\n",
       "      <td>2.0</td>\n",
       "      <td>1.0</td>\n",
       "    </tr>\n",
       "    <tr>\n",
       "      <th>3</th>\n",
       "      <td>3</td>\n",
       "      <td>3</td>\n",
       "      <td>119 01 0 479.00</td>\n",
       "      <td>SINGLE FAMILY</td>\n",
       "      <td>224  PEACHTREE ST</td>\n",
       "      <td>8</td>\n",
       "      <td>NASHVILLE</td>\n",
       "      <td>2013-01-18</td>\n",
       "      <td>32000</td>\n",
       "      <td>20130128-0008863</td>\n",
       "      <td>...</td>\n",
       "      <td>243700.0</td>\n",
       "      <td>268700.0</td>\n",
       "      <td>2145.60001</td>\n",
       "      <td>FULL BSMT</td>\n",
       "      <td>1948.0</td>\n",
       "      <td>BRICK/FRAME</td>\n",
       "      <td>B</td>\n",
       "      <td>4.0</td>\n",
       "      <td>2.0</td>\n",
       "      <td>0.0</td>\n",
       "    </tr>\n",
       "    <tr>\n",
       "      <th>4</th>\n",
       "      <td>4</td>\n",
       "      <td>4</td>\n",
       "      <td>119 05 0 186.00</td>\n",
       "      <td>SINGLE FAMILY</td>\n",
       "      <td>316  LUTIE ST</td>\n",
       "      <td>8</td>\n",
       "      <td>NASHVILLE</td>\n",
       "      <td>2013-01-23</td>\n",
       "      <td>102000</td>\n",
       "      <td>20130131-0009929</td>\n",
       "      <td>...</td>\n",
       "      <td>138100.0</td>\n",
       "      <td>164800.0</td>\n",
       "      <td>1969.00000</td>\n",
       "      <td>CRAWL</td>\n",
       "      <td>1910.0</td>\n",
       "      <td>FRAME</td>\n",
       "      <td>C</td>\n",
       "      <td>2.0</td>\n",
       "      <td>1.0</td>\n",
       "      <td>0.0</td>\n",
       "    </tr>\n",
       "    <tr>\n",
       "      <th>5</th>\n",
       "      <td>5</td>\n",
       "      <td>5</td>\n",
       "      <td>119 05 0 387.00</td>\n",
       "      <td>SINGLE FAMILY</td>\n",
       "      <td>2626  FOSTER AVE</td>\n",
       "      <td>8</td>\n",
       "      <td>NASHVILLE</td>\n",
       "      <td>2013-01-04</td>\n",
       "      <td>93736</td>\n",
       "      <td>20130118-0006110</td>\n",
       "      <td>...</td>\n",
       "      <td>86100.0</td>\n",
       "      <td>113300.0</td>\n",
       "      <td>1037.00000</td>\n",
       "      <td>CRAWL</td>\n",
       "      <td>1945.0</td>\n",
       "      <td>FRAME</td>\n",
       "      <td>C</td>\n",
       "      <td>2.0</td>\n",
       "      <td>1.0</td>\n",
       "      <td>0.0</td>\n",
       "    </tr>\n",
       "  </tbody>\n",
       "</table>\n",
       "<p>5 rows × 31 columns</p>\n",
       "</div>"
      ],
      "text/plain": [
       "   Unnamed: 0  Unnamed: 0.1        Parcel ID       Land Use  \\\n",
       "1           1             1  105 11 0 080.00  SINGLE FAMILY   \n",
       "2           2             2  118 03 0 130.00  SINGLE FAMILY   \n",
       "3           3             3  119 01 0 479.00  SINGLE FAMILY   \n",
       "4           4             4  119 05 0 186.00  SINGLE FAMILY   \n",
       "5           5             5  119 05 0 387.00  SINGLE FAMILY   \n",
       "\n",
       "    Property Address Suite/ Condo   # Property City   Sale Date  Sale Price  \\\n",
       "1   1802  STEWART PL                8     NASHVILLE  2013-01-11      191500   \n",
       "2  2761  ROSEDALE PL                8     NASHVILLE  2013-01-18      202000   \n",
       "3  224  PEACHTREE ST                8     NASHVILLE  2013-01-18       32000   \n",
       "4      316  LUTIE ST                8     NASHVILLE  2013-01-23      102000   \n",
       "5   2626  FOSTER AVE                8     NASHVILLE  2013-01-04       93736   \n",
       "\n",
       "    Legal Reference  ... Building Value Total Value Finished Area  \\\n",
       "1  20130118-0006337  ...       134400.0    168300.0    1149.00000   \n",
       "2  20130124-0008033  ...       157800.0    191800.0    2090.82495   \n",
       "3  20130128-0008863  ...       243700.0    268700.0    2145.60001   \n",
       "4  20130131-0009929  ...       138100.0    164800.0    1969.00000   \n",
       "5  20130118-0006110  ...        86100.0    113300.0    1037.00000   \n",
       "\n",
       "  Foundation Type Year Built Exterior Wall  Grade Bedrooms  Full Bath  \\\n",
       "1         PT BSMT     1941.0         BRICK   C         2.0        1.0   \n",
       "2            SLAB     2000.0   BRICK/FRAME   C         3.0        2.0   \n",
       "3       FULL BSMT     1948.0   BRICK/FRAME   B         4.0        2.0   \n",
       "4           CRAWL     1910.0         FRAME   C         2.0        1.0   \n",
       "5           CRAWL     1945.0         FRAME   C         2.0        1.0   \n",
       "\n",
       "  Half Bath  \n",
       "1       0.0  \n",
       "2       1.0  \n",
       "3       0.0  \n",
       "4       0.0  \n",
       "5       0.0  \n",
       "\n",
       "[5 rows x 31 columns]"
      ]
     },
     "execution_count": 112,
     "metadata": {},
     "output_type": "execute_result"
    }
   ],
   "source": [
    "new_Nashville.head()"
   ]
  },
  {
   "cell_type": "code",
   "execution_count": 113,
   "metadata": {},
   "outputs": [
    {
     "data": {
      "text/plain": [
       "Unnamed: 0                           0\n",
       "Unnamed: 0.1                         0\n",
       "Parcel ID                            0\n",
       "Land Use                             0\n",
       "Property Address                     0\n",
       "Suite/ Condo   #                     0\n",
       "Property City                        0\n",
       "Sale Date                            0\n",
       "Sale Price                           0\n",
       "Legal Reference                      0\n",
       "Sold As Vacant                       0\n",
       "Multiple Parcels Involved in Sale    0\n",
       "Owner Name                           0\n",
       "Address                              0\n",
       "City                                 0\n",
       "State                                0\n",
       "Acreage                              0\n",
       "Tax District                         0\n",
       "Neighborhood                         0\n",
       "image                                0\n",
       "Land Value                           0\n",
       "Building Value                       0\n",
       "Total Value                          0\n",
       "Finished Area                        0\n",
       "Foundation Type                      0\n",
       "Year Built                           0\n",
       "Exterior Wall                        0\n",
       "Grade                                0\n",
       "Bedrooms                             0\n",
       "Full Bath                            0\n",
       "Half Bath                            0\n",
       "dtype: int64"
      ]
     },
     "execution_count": 113,
     "metadata": {},
     "output_type": "execute_result"
    }
   ],
   "source": [
    "new_Nashville.isnull().sum()"
   ]
  },
  {
   "cell_type": "markdown",
   "metadata": {},
   "source": [
    "Eventhough I filled null values using ffill I can still see there are some null values in all the columns for the first row so I have deleted the first row. Now I can see there are no null values in the dataset. "
   ]
  },
  {
   "cell_type": "code",
   "execution_count": 114,
   "metadata": {},
   "outputs": [
    {
     "data": {
      "text/plain": [
       "<AxesSubplot:>"
      ]
     },
     "execution_count": 114,
     "metadata": {},
     "output_type": "execute_result"
    },
    {
     "data": {
      "image/png": "[encoded data removed]",
      "text/plain": [
       "<Figure size 432x288 with 1 Axes>"
      ]
     },
     "metadata": {
      "needs_background": "light"
     },
     "output_type": "display_data"
    }
   ],
   "source": [
    "new_Nashville['Property City'].value_counts().plot(kind='barh')"
   ]
  },
  {
   "cell_type": "markdown",
   "metadata": {},
   "source": [
    "There are more properties in Nashville"
   ]
  },
  {
   "cell_type": "code",
   "execution_count": 115,
   "metadata": {},
   "outputs": [
    {
     "data": {
      "text/plain": [
       "(array([5.6234e+04, 2.3900e+02, 3.1000e+01, 7.0000e+00, 9.4000e+01,\n",
       "        2.3000e+01, 0.0000e+00, 0.0000e+00, 0.0000e+00, 0.0000e+00,\n",
       "        0.0000e+00, 0.0000e+00, 0.0000e+00, 0.0000e+00, 0.0000e+00,\n",
       "        0.0000e+00, 0.0000e+00, 0.0000e+00, 0.0000e+00, 7.0000e+00]),\n",
       " array([5.00000000e+01, 2.71395050e+06, 5.42785100e+06, 8.14175150e+06,\n",
       "        1.08556520e+07, 1.35695525e+07, 1.62834530e+07, 1.89973535e+07,\n",
       "        2.17112540e+07, 2.44251545e+07, 2.71390550e+07, 2.98529555e+07,\n",
       "        3.25668560e+07, 3.52807565e+07, 3.79946570e+07, 4.07085575e+07,\n",
       "        4.34224580e+07, 4.61363585e+07, 4.88502590e+07, 5.15641595e+07,\n",
       "        5.42780600e+07]),\n",
       " <BarContainer object of 20 artists>)"
      ]
     },
     "execution_count": 115,
     "metadata": {},
     "output_type": "execute_result"
    },
    {
     "data": {
      "image/png": "[encoded data removed]",
      "text/plain": [
       "<Figure size 432x288 with 1 Axes>"
      ]
     },
     "metadata": {
      "needs_background": "light"
     },
     "output_type": "display_data"
    }
   ],
   "source": [
    "plt.hist(new_Nashville['Sale Price'], bins=20)"
   ]
  },
  {
   "cell_type": "code",
   "execution_count": 116,
   "metadata": {},
   "outputs": [
    {
     "data": {
      "text/plain": [
       "(array([3.0000e+00, 0.0000e+00, 0.0000e+00, 4.0000e+00, 9.0000e+00,\n",
       "        1.3000e+01, 2.2000e+01, 1.4300e+02, 4.8300e+02, 1.5940e+03,\n",
       "        5.5570e+03, 2.0928e+04, 1.9213e+04, 6.2780e+03, 1.6800e+03,\n",
       "        3.3800e+02, 2.3800e+02, 1.0200e+02, 2.3000e+01, 7.0000e+00]),\n",
       " array([ 3.91202301,  4.60690339,  5.30178377,  5.99666415,  6.69154453,\n",
       "         7.38642492,  8.0813053 ,  8.77618568,  9.47106606, 10.16594645,\n",
       "        10.86082683, 11.55570721, 12.25058759, 12.94546798, 13.64034836,\n",
       "        14.33522874, 15.03010912, 15.7249895 , 16.41986989, 17.11475027,\n",
       "        17.80963065]),\n",
       " <BarContainer object of 20 artists>)"
      ]
     },
     "execution_count": 116,
     "metadata": {},
     "output_type": "execute_result"
    },
    {
     "data": {
      "image/png": "[encoded data removed]",
      "text/plain": [
       "<Figure size 432x288 with 1 Axes>"
      ]
     },
     "metadata": {
      "needs_background": "light"
     },
     "output_type": "display_data"
    }
   ],
   "source": [
    "new_Nashville['log_sale_price'] = np.log(new_Nashville['Sale Price'])\n",
    "plt.hist(new_Nashville['log_sale_price'], bins=20)"
   ]
  },
  {
   "cell_type": "markdown",
   "metadata": {},
   "source": [
    "Applied log to the sale price"
   ]
  },
  {
   "cell_type": "code",
   "execution_count": 117,
   "metadata": {},
   "outputs": [
    {
     "data": {
      "text/plain": [
       "<AxesSubplot:>"
      ]
     },
     "execution_count": 117,
     "metadata": {},
     "output_type": "execute_result"
    },
    {
     "data": {
      "image/png": "[encoded data removed]",
      "text/plain": [
       "<Figure size 432x288 with 1 Axes>"
      ]
     },
     "metadata": {
      "needs_background": "light"
     },
     "output_type": "display_data"
    }
   ],
   "source": [
    "new_Nashville['Land Use'].value_counts()[:10].plot(kind='barh')"
   ]
  },
  {
   "cell_type": "code",
   "execution_count": 118,
   "metadata": {},
   "outputs": [
    {
     "data": {
      "text/plain": [
       "SINGLE FAMILY                                 34268\n",
       "RESIDENTIAL CONDO                             14080\n",
       "VACANT RESIDENTIAL LAND                        3586\n",
       "VACANT RES LAND                                1575\n",
       "DUPLEX                                         1389\n",
       "ZERO LOT LINE                                  1049\n",
       "CONDO                                           252\n",
       "RESIDENTIAL COMBO/MISC                           95\n",
       "TRIPLEX                                          92\n",
       "QUADPLEX                                         39\n",
       "CONDOMINIUM OFC  OR OTHER COM CONDO              35\n",
       "CHURCH                                           34\n",
       "MOBILE HOME                                      20\n",
       "DORMITORY/BOARDING HOUSE                         19\n",
       "VACANT COMMERCIAL LAND                           17\n",
       "SPLIT CLASS                                      17\n",
       "PARKING LOT                                      11\n",
       "FOREST                                           10\n",
       "GREENBELT                                        10\n",
       "PARSONAGE                                         6\n",
       "GREENBELT/RES\\r\\nGRRENBELT/RES                    3\n",
       "VACANT RESIENTIAL LAND                            3\n",
       "VACANT ZONED MULTI FAMILY                         2\n",
       "RESTURANT/CAFETERIA                               2\n",
       "APARTMENT: LOW RISE (BUILT SINCE 1960)            2\n",
       "VACANT RURAL LAND                                 2\n",
       "DAY CARE CENTER                                   2\n",
       "OFFICE BLDG (ONE OR TWO STORIES)                  2\n",
       "NON-PROFIT CHARITABLE SERVICE                     2\n",
       "TERMINAL/DISTRIBUTION WAREHOUSE                   2\n",
       "STRIP SHOPPING CENTER                             1\n",
       "SMALL SERVICE SHOP                                1\n",
       "CONVENIENCE MARKET WITHOUT GAS                    1\n",
       "CLUB/UNION HALL/LODGE                             1\n",
       "LIGHT MANUFACTURING                               1\n",
       "ONE STORY GENERAL RETAIL STORE                    1\n",
       "METRO OTHER THAN OFC, SCHOOL,HOSP, OR PARK        1\n",
       "NIGHTCLUB/LOUNGE                                  1\n",
       "MORTUARY/CEMETERY                                 1\n",
       "Name: Land Use, dtype: int64"
      ]
     },
     "execution_count": 118,
     "metadata": {},
     "output_type": "execute_result"
    }
   ],
   "source": [
    "new_Nashville['Land Use'].value_counts()"
   ]
  },
  {
   "cell_type": "code",
   "execution_count": 119,
   "metadata": {},
   "outputs": [
    {
     "data": {
      "text/plain": [
       "RESIDENTIAL CONDO                      6043\n",
       "SINGLE FAMILY                          4081\n",
       "VACANT RESIDENTIAL LAND                 888\n",
       "VACANT RES LAND                         236\n",
       "CONDO                                   118\n",
       "DUPLEX                                  100\n",
       "ZERO LOT LINE                            54\n",
       "CONDOMINIUM OFC  OR OTHER COM CONDO      23\n",
       "RESIDENTIAL COMBO/MISC                   12\n",
       "TRIPLEX                                   4\n",
       "DORMITORY/BOARDING HOUSE                  2\n",
       "CHURCH                                    2\n",
       "TERMINAL/DISTRIBUTION WAREHOUSE           1\n",
       "VACANT RESIENTIAL LAND                    1\n",
       "MOBILE HOME                               1\n",
       "GREENBELT/RES\\r\\nGRRENBELT/RES            1\n",
       "Name: Land Use, dtype: int64"
      ]
     },
     "execution_count": 119,
     "metadata": {},
     "output_type": "execute_result"
    }
   ],
   "source": [
    "duplicate_address = new_Nashville.loc[(new_Nashville['Property Address'].duplicated())]\n",
    "duplicate_address['Land Use'].value_counts()"
   ]
  },
  {
   "cell_type": "code",
   "execution_count": 120,
   "metadata": {},
   "outputs": [
    {
     "data": {
      "text/plain": [
       "count     6043\n",
       "unique       2\n",
       "top         No\n",
       "freq      5640\n",
       "Name: Multiple Parcels Involved in Sale, dtype: object"
      ]
     },
     "execution_count": 120,
     "metadata": {},
     "output_type": "execute_result"
    }
   ],
   "source": [
    "duplicate_address.loc[duplicate_address['Land Use'] == 'RESIDENTIAL CONDO']['Multiple Parcels Involved in Sale'].describe()"
   ]
  },
  {
   "cell_type": "code",
   "execution_count": 121,
   "metadata": {},
   "outputs": [
    {
     "data": {
      "text/plain": [
       "count    6.043000e+03\n",
       "mean     4.129025e+05\n",
       "std      1.968928e+06\n",
       "min      5.750000e+03\n",
       "25%      1.400000e+05\n",
       "50%      2.314000e+05\n",
       "75%      3.500000e+05\n",
       "max      5.427806e+07\n",
       "Name: Sale Price, dtype: float64"
      ]
     },
     "execution_count": 121,
     "metadata": {},
     "output_type": "execute_result"
    }
   ],
   "source": [
    "duplicate_address.loc[duplicate_address['Land Use'] == 'RESIDENTIAL CONDO']['Sale Price'].describe()"
   ]
  },
  {
   "cell_type": "code",
   "execution_count": 122,
   "metadata": {},
   "outputs": [
    {
     "data": {
      "text/plain": [
       "<AxesSubplot:xlabel='Sale Month', ylabel='count'>"
      ]
     },
     "execution_count": 122,
     "metadata": {},
     "output_type": "execute_result"
    },
    {
     "data": {
      "image/png": "[encoded data removed]",
      "text/plain": [
       "<Figure size 936x360 with 2 Axes>"
      ]
     },
     "metadata": {
      "needs_background": "light"
     },
     "output_type": "display_data"
    }
   ],
   "source": [
    " # split the data based on year of sale. \n",
    "Nashville['Sale Year'] = Nashville['Sale Date'].str[:4]\n",
    "Nashville['Month'] = Nashville['Sale Date'].str[5:7]\n",
    "Nashville['Day'] = Nashville['Sale Date'].str[8:10]\n",
    "Nashville['Sale Month'] = Nashville.Month.map({'01': 'Jan', '02': 'Feb', '03': 'Mar', '04':'Apr','05': 'May',\n",
    "                                           '06': 'Jun','07': 'Jul','08': 'Aug','09': 'Sep','10': 'Oct',\n",
    "                                           '11': 'Nov','12': 'Dec'})\n",
    "Nashville['Sale Day'] = Nashville.Day.astype(float)\n",
    "Nashville.drop('Month', axis=1)\n",
    "Nashville.drop('Day', axis=1)\n",
    "\n",
    "fig, (axis1, axis2) = plt.subplots(1,2, figsize=(13,5))\n",
    "sns.countplot(x='Sale Year', data=Nashville, ax = axis1)\n",
    "sns.countplot(x='Sale Month', data=Nashville, ax = axis2)"
   ]
  },
  {
   "cell_type": "markdown",
   "metadata": {},
   "source": [
    "Sales tend to be concentrated in the middle of the year and at the end of the month"
   ]
  },
  {
   "cell_type": "code",
   "execution_count": 123,
   "metadata": {},
   "outputs": [
    {
     "data": {
      "text/plain": [
       "[Text(0, 0.5, 'Acreage')]"
      ]
     },
     "execution_count": 123,
     "metadata": {},
     "output_type": "execute_result"
    },
    {
     "data": {
      "image/png": "[encoded data removed]",
      "text/plain": [
       "<Figure size 936x720 with 4 Axes>"
      ]
     },
     "metadata": {
      "needs_background": "light"
     },
     "output_type": "display_data"
    }
   ],
   "source": [
    "f, ax = plt.subplots(2, 2, figsize=(13,10))\n",
    "\n",
    "sale_price = Nashville[[\"Sale Year\", \"Sale Price\"]].groupby(['Sale Year'], as_index = False).mean()\n",
    "sns.barplot(x= 'Sale Year', y = 'Sale Price', data=sale_price, ax=ax[0,0]).set(ylabel='Mean Sale Price')\n",
    "\n",
    "land_price = Nashville[[\"Sale Year\", \"Land Value\"]].groupby(['Sale Year'], as_index = False).mean()\n",
    "sns.barplot(x= 'Sale Year', y = 'Land Value', data=land_price, ax=ax[0,1]).set(ylabel='Mean Land Price')\n",
    "\n",
    "building_price = Nashville[[\"Sale Year\", \"Building Value\"]].groupby(['Sale Year'], as_index = False).mean()\n",
    "sns.barplot(x= 'Sale Year', y = 'Building Value', data=building_price, ax=ax[1,0]).set(ylabel='Mean Building Price')\n",
    "\n",
    "acreage = Nashville[[\"Sale Year\", \"Acreage\"]].groupby(['Sale Year'], as_index = False).mean()\n",
    "sns.barplot(x= 'Sale Year', y = 'Acreage', data=acreage, ax=ax[1,1]).set(ylabel='Acreage')"
   ]
  },
  {
   "cell_type": "markdown",
   "metadata": {},
   "source": [
    "Results are a bit mixed here, this could be a result of some outliers that need to be removed, the sparseness of the data set, or a mix of both. A deeper dive into the data is needed here. I will start by separating sale prices by time of year."
   ]
  },
  {
   "cell_type": "code",
   "execution_count": 124,
   "metadata": {},
   "outputs": [
    {
     "data": {
      "text/plain": [
       "[Text(0, 0.5, 'Sale Price by Month')]"
      ]
     },
     "execution_count": 124,
     "metadata": {},
     "output_type": "execute_result"
    },
    {
     "data": {
      "image/png": "[encoded data removed]",
      "text/plain": [
       "<Figure size 432x288 with 1 Axes>"
      ]
     },
     "metadata": {
      "needs_background": "light"
     },
     "output_type": "display_data"
    }
   ],
   "source": [
    "sale_month = Nashville[[\"Sale Month\", \"Sale Price\"]].groupby(['Sale Month'], as_index = False).mean()\n",
    "sns.barplot(x= 'Sale Month', y = 'Sale Price', data=sale_month, \n",
    "            order = ['Jan','Feb','Mar','Apr','May','Jun','Jul','Aug','Sep','Oct','Nov','Dec']).set(ylabel='Sale Price by Month')"
   ]
  },
  {
   "cell_type": "markdown",
   "metadata": {},
   "source": [
    "It appears that prices in January are significantly higher than the other months of the year"
   ]
  },
  {
   "cell_type": "code",
   "execution_count": 125,
   "metadata": {},
   "outputs": [
    {
     "data": {
      "text/plain": [
       "[Text(0, 0.5, 'Sale Price by Month')]"
      ]
     },
     "execution_count": 125,
     "metadata": {},
     "output_type": "execute_result"
    },
    {
     "data": {
      "image/png": "[encoded data removed]",
      "text/plain": [
       "<Figure size 432x288 with 1 Axes>"
      ]
     },
     "metadata": {
      "needs_background": "light"
     },
     "output_type": "display_data"
    }
   ],
   "source": [
    "sns.barplot(x= 'Sale Month', y = 'Sale Price', data=Nashville, hue=Nashville['Sale Year'], \n",
    "            order = ['Jan','Feb','Mar','Apr','May','Jun','Jul','Aug','Sep','Oct','Nov','Dec']).set(ylabel='Sale Price by Month')"
   ]
  },
  {
   "cell_type": "markdown",
   "metadata": {},
   "source": [
    "Splitting the data further it appears that there were some large sales in January of 2015 that probably skews most of the data"
   ]
  },
  {
   "cell_type": "code",
   "execution_count": 126,
   "metadata": {},
   "outputs": [
    {
     "data": {
      "text/plain": [
       "[Text(0, 0.5, 'Sale Price by Day')]"
      ]
     },
     "execution_count": 126,
     "metadata": {},
     "output_type": "execute_result"
    },
    {
     "data": {
      "image/png": "[encoded data removed]",
      "text/plain": [
       "<Figure size 432x288 with 1 Axes>"
      ]
     },
     "metadata": {
      "needs_background": "light"
     },
     "output_type": "display_data"
    }
   ],
   "source": [
    "sale_day = Nashville[[\"Sale Day\", \"Sale Price\"]].groupby(['Sale Day'], as_index = False).mean()\n",
    "sns.barplot(x= 'Sale Day', y = 'Sale Price', data=sale_day, \n",
    "           order =[1,2,3,4,5,6,7,8,9,10,11,12,13,14,15,16,17,18,19,20,21,22,23,24,25,26,27,28,29,30,31]).set(ylabel='Sale Price by Day')\n"
   ]
  },
  {
   "cell_type": "code",
   "execution_count": 127,
   "metadata": {},
   "outputs": [
    {
     "data": {
      "text/plain": [
       "[Text(0, 0.5, 'Sale Price by Day')]"
      ]
     },
     "execution_count": 127,
     "metadata": {},
     "output_type": "execute_result"
    },
    {
     "data": {
      "image/png": "[encoded data removed]",
      "text/plain": [
       "<Figure size 432x288 with 1 Axes>"
      ]
     },
     "metadata": {
      "needs_background": "light"
     },
     "output_type": "display_data"
    }
   ],
   "source": [
    "sns.barplot(x= 'Sale Day', y = 'Sale Price', data=Nashville, hue=Nashville['Sale Year'], \n",
    "            order =[1,2,3,4,5,6,7,8,9,10,11,12,13,14,15,16,17,18,19,20,21,22,23,24,25,26,27,28,29,30,31]).set(ylabel='Sale Price by Day')"
   ]
  },
  {
   "cell_type": "markdown",
   "metadata": {},
   "source": [
    "Besides the main spike in the 17th from the $54 million sale, I suspect there were a large number of sales on the 30th of January in 2015 that spiked the average sales."
   ]
  },
  {
   "cell_type": "code",
   "execution_count": 180,
   "metadata": {},
   "outputs": [
    {
     "data": {
      "text/html": [
       "<div>\n",
       "<style scoped>\n",
       "    .dataframe tbody tr th:only-of-type {\n",
       "        vertical-align: middle;\n",
       "    }\n",
       "\n",
       "    .dataframe tbody tr th {\n",
       "        vertical-align: top;\n",
       "    }\n",
       "\n",
       "    .dataframe thead th {\n",
       "        text-align: right;\n",
       "    }\n",
       "</style>\n",
       "<table border=\"1\" class=\"dataframe\">\n",
       "  <thead>\n",
       "    <tr style=\"text-align: right;\">\n",
       "      <th></th>\n",
       "      <th>log_sale_price</th>\n",
       "      <th>Land Value</th>\n",
       "      <th>Building Value</th>\n",
       "      <th>Total Value</th>\n",
       "    </tr>\n",
       "  </thead>\n",
       "  <tbody>\n",
       "    <tr>\n",
       "      <th>1</th>\n",
       "      <td>12.162643</td>\n",
       "      <td>32000.0</td>\n",
       "      <td>134400.0</td>\n",
       "      <td>168300.0</td>\n",
       "    </tr>\n",
       "    <tr>\n",
       "      <th>2</th>\n",
       "      <td>12.216023</td>\n",
       "      <td>34000.0</td>\n",
       "      <td>157800.0</td>\n",
       "      <td>191800.0</td>\n",
       "    </tr>\n",
       "    <tr>\n",
       "      <th>3</th>\n",
       "      <td>10.373491</td>\n",
       "      <td>25000.0</td>\n",
       "      <td>243700.0</td>\n",
       "      <td>268700.0</td>\n",
       "    </tr>\n",
       "    <tr>\n",
       "      <th>4</th>\n",
       "      <td>11.532728</td>\n",
       "      <td>25000.0</td>\n",
       "      <td>138100.0</td>\n",
       "      <td>164800.0</td>\n",
       "    </tr>\n",
       "    <tr>\n",
       "      <th>5</th>\n",
       "      <td>11.448238</td>\n",
       "      <td>25000.0</td>\n",
       "      <td>86100.0</td>\n",
       "      <td>113300.0</td>\n",
       "    </tr>\n",
       "  </tbody>\n",
       "</table>\n",
       "</div>"
      ],
      "text/plain": [
       "   log_sale_price  Land Value  Building Value  Total Value\n",
       "1       12.162643     32000.0        134400.0     168300.0\n",
       "2       12.216023     34000.0        157800.0     191800.0\n",
       "3       10.373491     25000.0        243700.0     268700.0\n",
       "4       11.532728     25000.0        138100.0     164800.0\n",
       "5       11.448238     25000.0         86100.0     113300.0"
      ]
     },
     "execution_count": 180,
     "metadata": {},
     "output_type": "execute_result"
    }
   ],
   "source": [
    "df = pd.DataFrame(new_Nashville, columns = ['log_sale_price', 'Land Value','Building Value','Total Value'])\n",
    "df.head()"
   ]
  },
  {
   "cell_type": "code",
   "execution_count": 181,
   "metadata": {},
   "outputs": [],
   "source": [
    "X = pd.get_dummies(df).drop(columns = 'log_sale_price')\n",
    "y = df['log_sale_price'].values"
   ]
  },
  {
   "cell_type": "markdown",
   "metadata": {},
   "source": [
    "# Linear regression"
   ]
  },
  {
   "cell_type": "code",
   "execution_count": 182,
   "metadata": {},
   "outputs": [],
   "source": [
    "X_train, X_test, y_train, y_test = train_test_split(X, y, test_size=0.20)"
   ]
  },
  {
   "cell_type": "code",
   "execution_count": 183,
   "metadata": {},
   "outputs": [],
   "source": [
    "scaler = StandardScaler()\n",
    "scaler.fit(X_train)\n",
    "\n",
    "X_train = scaler.transform(X_train)\n",
    "X_test = scaler.transform(X_test)"
   ]
  },
  {
   "cell_type": "code",
   "execution_count": 184,
   "metadata": {},
   "outputs": [
    {
     "data": {
      "text/plain": [
       "((45308, 3), (11327, 3))"
      ]
     },
     "execution_count": 184,
     "metadata": {},
     "output_type": "execute_result"
    }
   ],
   "source": [
    "X_train.shape, X_test.shape"
   ]
  },
  {
   "cell_type": "code",
   "execution_count": 185,
   "metadata": {},
   "outputs": [
    {
     "name": "stdout",
     "output_type": "stream",
     "text": [
      "Coefficients:  [ 0.30432634  0.24962135 -0.14733221]\n",
      "Variance score: 0.16122911501828985\n"
     ]
    }
   ],
   "source": [
    "# create linear regression object\n",
    "reg = linear_model.LinearRegression()\n",
    " \n",
    "# train the model using the training sets\n",
    "reg.fit(X_train, y_train)\n",
    " \n",
    "# regression coefficients\n",
    "print('Coefficients: ', reg.coef_)\n",
    " \n",
    "# variance score: 1 means perfect prediction\n",
    "print('Variance score: {}'.format(reg.score(X_test, y_test)))"
   ]
  },
  {
   "cell_type": "code",
   "execution_count": 186,
   "metadata": {},
   "outputs": [],
   "source": [
    "y_pred = reg.predict(X_test)"
   ]
  },
  {
   "cell_type": "code",
   "execution_count": 187,
   "metadata": {},
   "outputs": [
    {
     "name": "stdout",
     "output_type": "stream",
     "text": [
      "0.5289092800610538\n",
      "0.5751301933265981\n",
      "0.7583733864835963\n"
     ]
    }
   ],
   "source": [
    "print(metrics.mean_absolute_error(y_test, y_pred))\n",
    "print(metrics.mean_squared_error(y_test, y_pred))\n",
    "print(np.sqrt(metrics.mean_squared_error(y_test, y_pred)))"
   ]
  },
  {
   "cell_type": "markdown",
   "metadata": {},
   "source": [
    "# Random Forest Regressor"
   ]
  },
  {
   "cell_type": "code",
   "execution_count": 188,
   "metadata": {},
   "outputs": [],
   "source": [
    "# Instantiate model with 1000 decision trees\n",
    "rf = RandomForestRegressor(n_estimators = 1000, random_state = 42)\n",
    "# Train the model on training data\n",
    "rf.fit(X_train, y_train);"
   ]
  },
  {
   "cell_type": "code",
   "execution_count": 189,
   "metadata": {},
   "outputs": [
    {
     "name": "stdout",
     "output_type": "stream",
     "text": [
      "Mean Absolute Error: 0.43 degrees.\n"
     ]
    }
   ],
   "source": [
    "# Use the forest's predict method on the test data\n",
    "predictions = rf.predict(X_test)\n",
    "# Calculate the absolute errors\n",
    "errors = abs(predictions - y_test)\n",
    "# Print out the mean absolute error (mae)\n",
    "print('Mean Absolute Error:', round(np.mean(errors), 2), 'degrees.')"
   ]
  },
  {
   "cell_type": "code",
   "execution_count": 190,
   "metadata": {},
   "outputs": [
    {
     "name": "stdout",
     "output_type": "stream",
     "text": [
      "Accuracy: 96.41 %.\n"
     ]
    }
   ],
   "source": [
    "# Calculate mean absolute percentage error (MAPE)\n",
    "mape = 100 * (errors / y_test)\n",
    "# Calculate and display accuracy\n",
    "accuracy = 100 - np.mean(mape)\n",
    "print('Accuracy:', round(accuracy, 2), '%.')"
   ]
  },
  {
   "cell_type": "markdown",
   "metadata": {},
   "source": [
    "#  DecisionTreeRegressor"
   ]
  },
  {
   "cell_type": "code",
   "execution_count": 191,
   "metadata": {},
   "outputs": [],
   "source": [
    "# Split dataset into training set and test set\n",
    "X_train, X_test, y_train, y_test = train_test_split(X, y, test_size=0.3, random_state=1) # 70% training and 30% test"
   ]
  },
  {
   "cell_type": "code",
   "execution_count": 192,
   "metadata": {},
   "outputs": [],
   "source": [
    " # Create Decision Tree classifer object\n",
    "clf = DecisionTreeRegressor()\n",
    "\n",
    "# Train Decision Tree Classifer\n",
    "clf = clf.fit(X_train,y_train)\n",
    "\n",
    "#Predict the response for test dataset\n",
    "y_pred = clf.predict(X_test)"
   ]
  },
  {
   "cell_type": "code",
   "execution_count": 193,
   "metadata": {},
   "outputs": [
    {
     "name": "stdout",
     "output_type": "stream",
     "text": [
      "DecisionTreeRegressor(ccp_alpha=0.0, criterion='mse', max_depth=None,\n",
      "                      max_features=None, max_leaf_nodes=None,\n",
      "                      min_impurity_decrease=0.0, min_impurity_split=None,\n",
      "                      min_samples_leaf=1, min_samples_split=2,\n",
      "                      min_weight_fraction_leaf=0.0, presort='deprecated',\n",
      "                      random_state=None, splitter='best')\n"
     ]
    },
    {
     "data": {
      "text/plain": [
       "DecisionTreeRegressor(ccp_alpha=0.0, criterion='mse', max_depth=None,\n",
       "                      max_features=None, max_leaf_nodes=None,\n",
       "                      min_impurity_decrease=0.0, min_impurity_split=None,\n",
       "                      min_samples_leaf=1, min_samples_split=2,\n",
       "                      min_weight_fraction_leaf=0.0, presort='deprecated',\n",
       "                      random_state=None, splitter='best')"
      ]
     },
     "execution_count": 193,
     "metadata": {},
     "output_type": "execute_result"
    }
   ],
   "source": [
    "set_config(print_changed_only=False) \n",
    " \n",
    "dtr = DecisionTreeRegressor()\n",
    "print(dtr)\n",
    " \n",
    "DecisionTreeRegressor(ccp_alpha=0.0, criterion='mse', max_depth=None,\n",
    "                      max_features=None, max_leaf_nodes=None,\n",
    "                      min_impurity_decrease=0.0, min_impurity_split=None,\n",
    "                      min_samples_leaf=1, min_samples_split=2,\n",
    "                      min_weight_fraction_leaf=0.0, presort='deprecated',\n",
    "                      random_state=None, splitter='best') "
   ]
  },
  {
   "cell_type": "code",
   "execution_count": 194,
   "metadata": {},
   "outputs": [
    {
     "name": "stdout",
     "output_type": "stream",
     "text": [
      "R-squared: 0.6757487628671122\n"
     ]
    }
   ],
   "source": [
    "dtr.fit(X_train, y_train)\n",
    "\n",
    "score = dtr.score(X_train, y_train)\n",
    "print(\"R-squared:\", score) \n"
   ]
  },
  {
   "cell_type": "code",
   "execution_count": 195,
   "metadata": {},
   "outputs": [
    {
     "name": "stdout",
     "output_type": "stream",
     "text": [
      "0.4649233966383702\n",
      "0.4539808417340541\n",
      "0.6737810042840731\n"
     ]
    }
   ],
   "source": [
    "print(metrics.mean_absolute_error(y_test, y_pred))\n",
    "print(metrics.mean_squared_error(y_test, y_pred))\n",
    "print(np.sqrt(metrics.mean_squared_error(y_test, y_pred)))"
   ]
  },
  {
   "cell_type": "markdown",
   "metadata": {},
   "source": [
    "# GradientBoostingRegressor"
   ]
  },
  {
   "cell_type": "code",
   "execution_count": 196,
   "metadata": {},
   "outputs": [
    {
     "data": {
      "text/plain": [
       "0.43251288877169414"
      ]
     },
     "execution_count": 196,
     "metadata": {},
     "output_type": "execute_result"
    }
   ],
   "source": [
    "X, y = make_regression(random_state=0)\n",
    "X_train, X_test, y_train, y_test = train_test_split(X, y, random_state=0)\n",
    "reg = GradientBoostingRegressor(random_state=0)\n",
    "reg.fit(X_train, y_train)\n",
    "GradientBoostingRegressor(random_state=0)\n",
    "reg.predict(X_test[1:2])\n",
    "\n",
    "reg.score(X_test, y_test)\n"
   ]
  },
  {
   "cell_type": "code",
   "execution_count": 197,
   "metadata": {},
   "outputs": [],
   "source": [
    "y_pred = reg.predict(X_test)"
   ]
  },
  {
   "cell_type": "code",
   "execution_count": 198,
   "metadata": {},
   "outputs": [
    {
     "name": "stdout",
     "output_type": "stream",
     "text": [
      "83.01998572170794\n",
      "11135.49255739397\n",
      "105.52484331849999\n"
     ]
    }
   ],
   "source": [
    "print(metrics.mean_absolute_error(y_test, y_pred))\n",
    "\n",
    "print(metrics.mean_squared_error(y_test, y_pred))\n",
    "\n",
    "print(np.sqrt(metrics.mean_squared_error(y_test, y_pred)))"
   ]
  },
  {
   "cell_type": "markdown",
   "metadata": {},
   "source": [
    "By looking at the above models, I observed that the mean absolute error is less in Random Forest Regressor i.e., 0.43 and from this I can say that real estate company should use Random Forest Regressor for getting more accurate results."
   ]
  }
 ],
 "metadata": {
  "kernelspec": {
   "display_name": "Python 3",
   "language": "python",
   "name": "python3"
  },
  "language_info": {
   "codemirror_mode": {
    "name": "ipython",
    "version": 3
   },
   "file_extension": ".py",
   "mimetype": "text/x-python",
   "name": "python",
   "nbconvert_exporter": "python",
   "pygments_lexer": "ipython3",
   "version": "3.8.5"
  }
 },
 "nbformat": 4,
 "nbformat_minor": 4
}
